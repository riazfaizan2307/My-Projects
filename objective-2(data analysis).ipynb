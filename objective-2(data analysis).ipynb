{
 "cells": [
  {
   "cell_type": "code",
   "execution_count": 1,
   "id": "ee80e88d",
   "metadata": {},
   "outputs": [],
   "source": [
    "#importing necessary libraries\n",
    "import os\n",
    "import pandas as pd\n",
    "from textblob import TextBlob\n",
    "import syllables"
   ]
  },
  {
   "cell_type": "code",
   "execution_count": 2,
   "id": "cc2094b3",
   "metadata": {},
   "outputs": [],
   "source": [
    "# Function to count syllables in a word\n",
    "def count_syllables(word):\n",
    "    return syllables.estimate(word)\n",
    "# Function to perform textual analysis on the article text\n",
    "def perform_textual_analysis(article_text):\n",
    "    blob = TextBlob(article_text)\n",
    "    # Variables to be analyze\n",
    "    positive_score = blob.sentiment.polarity\n",
    "    negative_score = -positive_score\n",
    "    polarity_score = blob.sentiment.polarity\n",
    "    subjectivity_score = blob.sentiment.subjectivity\n",
    "     # Spliting the text into sentences and words\n",
    "    sentences = article_text.split('.')\n",
    "    words = ' '.join(sentences).split()\n",
    "    #analyzing the  average sentence length, percentage of complex words, and the fog index\n",
    "    avg_sentence_length = len(words) / len(sentences)\n",
    "    percentage_complex_words = sum(1 for word in words if count_syllables(word) >= 3) / len(words) * 100\n",
    "    fog_index = 0.4 * (avg_sentence_length + percentage_complex_words)\n",
    "    # analyzing word count, syllables, personal pronouns, and average word length\n",
    "    avg_words_per_sentence = len(words) / len(sentences)\n",
    "    complex_word_count = sum(1 for word in words if count_syllables(word) >= 3)\n",
    "    word_count = len(words)\n",
    "    syllable_per_word = sum(count_syllables(word) for word in words) / word_count\n",
    "    personal_pronouns = sum(1 for word in words if word.lower() in ['i', 'me', 'my', 'mine', 'myself'])\n",
    "    avg_word_length = sum(len(word) for word in words) / word_count if word_count > 0 else 0\n",
    "         #returning all the variables as tuples\n",
    "    return positive_score, negative_score, polarity_score, subjectivity_score, \\\n",
    "           avg_sentence_length, percentage_complex_words, fog_index, \\\n",
    "           avg_words_per_sentence, complex_word_count, word_count, \\\n",
    "           syllable_per_word, personal_pronouns, avg_word_length\n"
   ]
  },
  {
   "cell_type": "code",
   "execution_count": 3,
   "id": "5abf603f",
   "metadata": {},
   "outputs": [],
   "source": [
    "# Reading the output  data structure Excel file\n",
    "output_structure_file = 'Output Data Structure.xlsx'\n",
    "output_df = pd.read_excel(output_structure_file)\n",
    "# Creating a dataframe to store the computed variables\n",
    "computed_variablesX_df = pd.DataFrame(columns=output_df.columns)\n",
    "# Reading folder containing extracted texts\n",
    "extracted_texts_folder = 'output_folder'"
   ]
  },
  {
   "cell_type": "code",
   "execution_count": 4,
   "id": "93b2f33f",
   "metadata": {},
   "outputs": [],
   "source": [
    "#initializing an empty list to store records of computed variables\n",
    "computed_variables_list = []\n",
    "# Iterating each row in the output dataframe\n",
    "for index, row in output_df.iterrows():\n",
    "    url_id = row['URL_ID']\n",
    "    # Reading the extracted text from the output folder\n",
    "    text_file_path = os.path.join(extracted_texts_folder, f'{url_id}.txt')\n",
    "    if os.path.exists(text_file_path):\n",
    "        with open(text_file_path, 'r', encoding='utf-8') as file:\n",
    "            article_text = file.read()\n",
    "        # Performing textual analysis and storing it in results variable\n",
    "        results = perform_textual_analysis(article_text)\n",
    "        # Append the computed variables to the dataframe\n",
    "        computed_variables_list.append({\n",
    "            'URL_ID': url_id,\n",
    "            'URL': row['URL'], \n",
    "            **dict(zip(output_df.columns[2:], results))\n",
    "        })\n",
    "    else:\n",
    "        print(f\"Text file not found for URL_ID: {url_id}\")"
   ]
  },
  {
   "cell_type": "code",
   "execution_count": 5,
   "id": "dacf8c9b",
   "metadata": {},
   "outputs": [
    {
     "name": "stdout",
     "output_type": "stream",
     "text": [
      "Textual analysis complete. Computed variables saved to Computed_VariablesX_Output.xlsx\n"
     ]
    }
   ],
   "source": [
    "# Concatenate the list of computed variables into a DataFrame\n",
    "computed_variablesX_df = pd.concat([computed_variablesX_df, pd.DataFrame(computed_variables_list)], ignore_index=True)\n",
    "# Save the computed variables to a new Excel file\n",
    "output_file = 'Computed_VariablesX_Output.xlsx'\n",
    "computed_variablesX_df.to_excel(output_file, index=False)\n",
    "print(f\"Textual analysis complete. Computed variables saved to {output_file}\")"
   ]
  },
  {
   "cell_type": "markdown",
   "id": "57def5ab",
   "metadata": {},
   "source": [
    "### Note:- \n",
    "    - Two functions are defined: count_syllables and perform_textual_analysis for estimates syllables in a word and for sentiment analysis respetively.\n",
    "    - Then it will return the given variables as tuples.\n",
    "    -  Then it will read the Excel file to read the structure of the output dataframe.\n",
    "    - Then I used for loop to iterate through each row in the output dataframe.\n",
    "    Created a new dataframe called computed_variablesX_df to save the result and then save the df into a new Excel file.\n",
    " - How to Run:- Place the script in the same folder as the Output_data_structures.xlsx and the output_folder containing the output text.\n",
    "    Run the objective-2(data analysis).py script in jupyter notebook or vs code.\n",
    " - Install Pandas, Textblob and Syllables. "
   ]
  }
 ],
 "metadata": {
  "kernelspec": {
   "display_name": "Python 3 (ipykernel)",
   "language": "python",
   "name": "python3"
  },
  "language_info": {
   "codemirror_mode": {
    "name": "ipython",
    "version": 3
   },
   "file_extension": ".py",
   "mimetype": "text/x-python",
   "name": "python",
   "nbconvert_exporter": "python",
   "pygments_lexer": "ipython3",
   "version": "3.11.4"
  }
 },
 "nbformat": 4,
 "nbformat_minor": 5
}
