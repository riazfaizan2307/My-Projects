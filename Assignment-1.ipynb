{
 "cells": [
  {
   "cell_type": "code",
   "execution_count": 1,
   "id": "2711b824",
   "metadata": {},
   "outputs": [],
   "source": [
    "import numpy as np"
   ]
  },
  {
   "cell_type": "markdown",
   "id": "4fa4b397",
   "metadata": {},
   "source": [
    "## Problem-1"
   ]
  },
  {
   "cell_type": "code",
   "execution_count": 2,
   "id": "95403274",
   "metadata": {},
   "outputs": [],
   "source": [
    "def matrix_multiplication(matrix1, matrix2):\n",
    "    try:\n",
    "        result = np.dot(matrix1, matrix2)\n",
    "        return result\n",
    "    except ValueError as e:\n",
    "        print(f\"Error: {e}\")\n",
    "        return None"
   ]
  },
  {
   "cell_type": "code",
   "execution_count": 3,
   "id": "f044ae9b",
   "metadata": {},
   "outputs": [
    {
     "name": "stdout",
     "output_type": "stream",
     "text": [
      "Matrix 1 (2x3):\n",
      "[[0.04405346 0.91097635 0.76453476]\n",
      " [0.65070637 0.60063575 0.27447766]]\n",
      "\n",
      "Matrix 2 (3x4):\n",
      "[[0.59280225 0.80622731 0.88754934 0.36154647]\n",
      " [0.33602497 0.85528236 0.97474751 0.20423513]\n",
      " [0.54542577 0.41264481 0.75774035 0.48831893]]\n",
      "\n",
      "Result Matrix (2x4):\n",
      "[[0.74922275 1.1301404  1.50639039 0.57531754]\n",
      " [0.737276   1.15159218 1.37098501 0.49196414]]\n"
     ]
    }
   ],
   "source": [
    "K, N, A = 2, 3, 4  \n",
    "matrix_KN = np.random.rand(K, N)\n",
    "matrix_NA = np.random.rand(N, A)\n",
    "\n",
    "result_matrix = matrix_multiplication(matrix_KN, matrix_NA)\n",
    "\n",
    "if result_matrix is not None:\n",
    "    print(f\"Matrix 1 ({K}x{N}):\")\n",
    "    print(matrix_KN)\n",
    "    print(f\"\\nMatrix 2 ({N}x{A}):\")\n",
    "    print(matrix_NA)\n",
    "    print(f\"\\nResult Matrix ({K}x{A}):\")\n",
    "    print(result_matrix)"
   ]
  },
  {
   "cell_type": "markdown",
   "id": "c7b78865",
   "metadata": {},
   "source": [
    "## Problem-2"
   ]
  },
  {
   "cell_type": "code",
   "execution_count": 5,
   "id": "5d8b4ecb",
   "metadata": {},
   "outputs": [
    {
     "name": "stdout",
     "output_type": "stream",
     "text": [
      "Not all elements satisfy the condition.\n"
     ]
    }
   ],
   "source": [
    "def check_element_composition(arr):\n",
    "    composed_elements = np.char.isalnum(arr)\n",
    "\n",
    "    all_elements_composed = np.all(composed_elements)\n",
    "\n",
    "    return all_elements_composed\n",
    "\n",
    "example_array = np.array(['Abc123', 'Def456', 'Ghi789', 'Invalid@'])\n",
    "\n",
    "result = check_element_composition(example_array)\n",
    "\n",
    "if result:\n",
    "    print(\"All elements are composed of digits, lowercase letters, and uppercase letters only.\")\n",
    "else:\n",
    "    print(\"Not all elements satisfy the condition.\")"
   ]
  },
  {
   "cell_type": "markdown",
   "id": "077dfc8d",
   "metadata": {},
   "source": [
    "## Problem-3"
   ]
  },
  {
   "cell_type": "code",
   "execution_count": 6,
   "id": "3c642d40",
   "metadata": {},
   "outputs": [
    {
     "name": "stdout",
     "output_type": "stream",
     "text": [
      "Enter two space-separated positive integers X and Y: 5  6\n",
      "[0 -1 -2 -3 -4 -5 -6 -7 -8 -9 -10 -11 -12 -13 -14 -15]\n"
     ]
    }
   ],
   "source": [
    "X, Y = map(int, input(\"Enter two space-separated positive integers X and Y: \").split())\n",
    "\n",
    "lst1 = list(range(1, 16*X, X))\n",
    "lst2 = list(range(1, 16*Y, Y))\n",
    "\n",
    "np1 = np.array(lst1)\n",
    "np2 = np.array(lst2)\n",
    "\n",
    "np1 = np1.reshape((4, 4))\n",
    "np2 = np2.reshape((4, 4))\n",
    "\n",
    "np3 = np1 - np2\n",
    "\n",
    "print(f\"[{np3.flatten()[0]} {np3.flatten()[1]} {np3.flatten()[2]} {np3.flatten()[3]} \"\n",
    "      f\"{np3.flatten()[4]} {np3.flatten()[5]} {np3.flatten()[6]} {np3.flatten()[7]} \"\n",
    "      f\"{np3.flatten()[8]} {np3.flatten()[9]} {np3.flatten()[10]} {np3.flatten()[11]} \"\n",
    "      f\"{np3.flatten()[12]} {np3.flatten()[13]} {np3.flatten()[14]} {np3.flatten()[15]}]\")\n"
   ]
  },
  {
   "cell_type": "markdown",
   "id": "ee819efe",
   "metadata": {},
   "source": [
    "## Problem-4"
   ]
  },
  {
   "cell_type": "code",
   "execution_count": 8,
   "id": "75c061dd",
   "metadata": {},
   "outputs": [
    {
     "name": "stdout",
     "output_type": "stream",
     "text": [
      "Element-wise difference (P - Q):\n",
      "[[-8 -6 -4]\n",
      " [-2  0  2]\n",
      " [ 4  6  8]]\n"
     ]
    }
   ],
   "source": [
    "def print_elementwise_difference(matrix_P, matrix_Q):\n",
    "    try:\n",
    "        result_matrix = matrix_P - matrix_Q\n",
    "\n",
    "        print(\"Element-wise difference (P - Q):\")\n",
    "        print(result_matrix)\n",
    "\n",
    "    except ValueError as e:\n",
    "        print(f\"Error: {e}\")\n",
    "\n",
    "matrix_P = np.array([[1, 2, 3],\n",
    "                    [4, 5, 6],\n",
    "                    [7, 8, 9]])\n",
    "\n",
    "matrix_Q = np.array([[9, 8, 7],\n",
    "                    [6, 5, 4],\n",
    "                    [3, 2, 1]])\n",
    "\n",
    "if matrix_P.shape == matrix_Q.shape == (3, 3):\n",
    "    print_elementwise_difference(matrix_P, matrix_Q)\n",
    "else:\n",
    "    print(\"Error: Matrices P and Q must have the same shape [3x3].\")"
   ]
  },
  {
   "cell_type": "markdown",
   "id": "98a40c8f",
   "metadata": {},
   "source": [
    "# END"
   ]
  }
 ],
 "metadata": {
  "kernelspec": {
   "display_name": "Python 3 (ipykernel)",
   "language": "python",
   "name": "python3"
  },
  "language_info": {
   "codemirror_mode": {
    "name": "ipython",
    "version": 3
   },
   "file_extension": ".py",
   "mimetype": "text/x-python",
   "name": "python",
   "nbconvert_exporter": "python",
   "pygments_lexer": "ipython3",
   "version": "3.11.4"
  }
 },
 "nbformat": 4,
 "nbformat_minor": 5
}
